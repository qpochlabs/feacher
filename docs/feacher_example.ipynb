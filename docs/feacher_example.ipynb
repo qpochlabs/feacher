{
  "nbformat": 4,
  "nbformat_minor": 0,
  "metadata": {
    "colab": {
      "name": "feacher_example.ipynb",
      "provenance": [],
      "authorship_tag": "ABX9TyMur6sp2hw7oOk98XKJok7c",
      "include_colab_link": true
    },
    "kernelspec": {
      "name": "python3",
      "display_name": "Python 3"
    },
    "language_info": {
      "name": "python"
    },
    "widgets": {
      "application/vnd.jupyter.widget-state+json": {
        "ef9998d8c3294393a304b746596c512d": {
          "model_module": "@jupyter-widgets/controls",
          "model_name": "HBoxModel",
          "model_module_version": "1.5.0",
          "state": {
            "_view_name": "HBoxView",
            "_dom_classes": [],
            "_model_name": "HBoxModel",
            "_view_module": "@jupyter-widgets/controls",
            "_model_module_version": "1.5.0",
            "_view_count": null,
            "_view_module_version": "1.5.0",
            "box_style": "",
            "layout": "IPY_MODEL_dc482518df8340ea91153433c2b1c587",
            "_model_module": "@jupyter-widgets/controls",
            "children": [
              "IPY_MODEL_d4e393c70490406881ce3c977d1be099",
              "IPY_MODEL_508a1879376446f38556da9103b9a394",
              "IPY_MODEL_e5907f0c0a1d4392b1b64f55b3ade698"
            ]
          }
        },
        "dc482518df8340ea91153433c2b1c587": {
          "model_module": "@jupyter-widgets/base",
          "model_name": "LayoutModel",
          "model_module_version": "1.2.0",
          "state": {
            "_view_name": "LayoutView",
            "grid_template_rows": null,
            "right": null,
            "justify_content": null,
            "_view_module": "@jupyter-widgets/base",
            "overflow": null,
            "_model_module_version": "1.2.0",
            "_view_count": null,
            "flex_flow": null,
            "width": null,
            "min_width": null,
            "border": null,
            "align_items": null,
            "bottom": null,
            "_model_module": "@jupyter-widgets/base",
            "top": null,
            "grid_column": null,
            "overflow_y": null,
            "overflow_x": null,
            "grid_auto_flow": null,
            "grid_area": null,
            "grid_template_columns": null,
            "flex": null,
            "_model_name": "LayoutModel",
            "justify_items": null,
            "grid_row": null,
            "max_height": null,
            "align_content": null,
            "visibility": null,
            "align_self": null,
            "height": null,
            "min_height": null,
            "padding": null,
            "grid_auto_rows": null,
            "grid_gap": null,
            "max_width": null,
            "order": null,
            "_view_module_version": "1.2.0",
            "grid_template_areas": null,
            "object_position": null,
            "object_fit": null,
            "grid_auto_columns": null,
            "margin": null,
            "display": null,
            "left": null
          }
        },
        "d4e393c70490406881ce3c977d1be099": {
          "model_module": "@jupyter-widgets/controls",
          "model_name": "HTMLModel",
          "model_module_version": "1.5.0",
          "state": {
            "_view_name": "HTMLView",
            "style": "IPY_MODEL_767dd45852564a91a3b4fc7da023b54b",
            "_dom_classes": [],
            "description": "",
            "_model_name": "HTMLModel",
            "placeholder": "​",
            "_view_module": "@jupyter-widgets/controls",
            "_model_module_version": "1.5.0",
            "value": "100%",
            "_view_count": null,
            "_view_module_version": "1.5.0",
            "description_tooltip": null,
            "_model_module": "@jupyter-widgets/controls",
            "layout": "IPY_MODEL_c98008ff2ef94fe8914551678ae8cc2e"
          }
        },
        "508a1879376446f38556da9103b9a394": {
          "model_module": "@jupyter-widgets/controls",
          "model_name": "FloatProgressModel",
          "model_module_version": "1.5.0",
          "state": {
            "_view_name": "ProgressView",
            "style": "IPY_MODEL_b3d2cab9dd4a4a8c8db575b14d6833b9",
            "_dom_classes": [],
            "description": "",
            "_model_name": "FloatProgressModel",
            "bar_style": "success",
            "max": 46830571,
            "_view_module": "@jupyter-widgets/controls",
            "_model_module_version": "1.5.0",
            "value": 46830571,
            "_view_count": null,
            "_view_module_version": "1.5.0",
            "orientation": "horizontal",
            "min": 0,
            "description_tooltip": null,
            "_model_module": "@jupyter-widgets/controls",
            "layout": "IPY_MODEL_4f2bda3047554c9bb0f4a2b86f19b12d"
          }
        },
        "e5907f0c0a1d4392b1b64f55b3ade698": {
          "model_module": "@jupyter-widgets/controls",
          "model_name": "HTMLModel",
          "model_module_version": "1.5.0",
          "state": {
            "_view_name": "HTMLView",
            "style": "IPY_MODEL_90ac73afb3574f7a8eea93979cb45ab5",
            "_dom_classes": [],
            "description": "",
            "_model_name": "HTMLModel",
            "placeholder": "​",
            "_view_module": "@jupyter-widgets/controls",
            "_model_module_version": "1.5.0",
            "value": " 44.7M/44.7M [00:00&lt;00:00, 124MB/s]",
            "_view_count": null,
            "_view_module_version": "1.5.0",
            "description_tooltip": null,
            "_model_module": "@jupyter-widgets/controls",
            "layout": "IPY_MODEL_0cf9dfcfce654191b163751494d7aaf2"
          }
        },
        "767dd45852564a91a3b4fc7da023b54b": {
          "model_module": "@jupyter-widgets/controls",
          "model_name": "DescriptionStyleModel",
          "model_module_version": "1.5.0",
          "state": {
            "_view_name": "StyleView",
            "_model_name": "DescriptionStyleModel",
            "description_width": "",
            "_view_module": "@jupyter-widgets/base",
            "_model_module_version": "1.5.0",
            "_view_count": null,
            "_view_module_version": "1.2.0",
            "_model_module": "@jupyter-widgets/controls"
          }
        },
        "c98008ff2ef94fe8914551678ae8cc2e": {
          "model_module": "@jupyter-widgets/base",
          "model_name": "LayoutModel",
          "model_module_version": "1.2.0",
          "state": {
            "_view_name": "LayoutView",
            "grid_template_rows": null,
            "right": null,
            "justify_content": null,
            "_view_module": "@jupyter-widgets/base",
            "overflow": null,
            "_model_module_version": "1.2.0",
            "_view_count": null,
            "flex_flow": null,
            "width": null,
            "min_width": null,
            "border": null,
            "align_items": null,
            "bottom": null,
            "_model_module": "@jupyter-widgets/base",
            "top": null,
            "grid_column": null,
            "overflow_y": null,
            "overflow_x": null,
            "grid_auto_flow": null,
            "grid_area": null,
            "grid_template_columns": null,
            "flex": null,
            "_model_name": "LayoutModel",
            "justify_items": null,
            "grid_row": null,
            "max_height": null,
            "align_content": null,
            "visibility": null,
            "align_self": null,
            "height": null,
            "min_height": null,
            "padding": null,
            "grid_auto_rows": null,
            "grid_gap": null,
            "max_width": null,
            "order": null,
            "_view_module_version": "1.2.0",
            "grid_template_areas": null,
            "object_position": null,
            "object_fit": null,
            "grid_auto_columns": null,
            "margin": null,
            "display": null,
            "left": null
          }
        },
        "b3d2cab9dd4a4a8c8db575b14d6833b9": {
          "model_module": "@jupyter-widgets/controls",
          "model_name": "ProgressStyleModel",
          "model_module_version": "1.5.0",
          "state": {
            "_view_name": "StyleView",
            "_model_name": "ProgressStyleModel",
            "description_width": "",
            "_view_module": "@jupyter-widgets/base",
            "_model_module_version": "1.5.0",
            "_view_count": null,
            "_view_module_version": "1.2.0",
            "bar_color": null,
            "_model_module": "@jupyter-widgets/controls"
          }
        },
        "4f2bda3047554c9bb0f4a2b86f19b12d": {
          "model_module": "@jupyter-widgets/base",
          "model_name": "LayoutModel",
          "model_module_version": "1.2.0",
          "state": {
            "_view_name": "LayoutView",
            "grid_template_rows": null,
            "right": null,
            "justify_content": null,
            "_view_module": "@jupyter-widgets/base",
            "overflow": null,
            "_model_module_version": "1.2.0",
            "_view_count": null,
            "flex_flow": null,
            "width": null,
            "min_width": null,
            "border": null,
            "align_items": null,
            "bottom": null,
            "_model_module": "@jupyter-widgets/base",
            "top": null,
            "grid_column": null,
            "overflow_y": null,
            "overflow_x": null,
            "grid_auto_flow": null,
            "grid_area": null,
            "grid_template_columns": null,
            "flex": null,
            "_model_name": "LayoutModel",
            "justify_items": null,
            "grid_row": null,
            "max_height": null,
            "align_content": null,
            "visibility": null,
            "align_self": null,
            "height": null,
            "min_height": null,
            "padding": null,
            "grid_auto_rows": null,
            "grid_gap": null,
            "max_width": null,
            "order": null,
            "_view_module_version": "1.2.0",
            "grid_template_areas": null,
            "object_position": null,
            "object_fit": null,
            "grid_auto_columns": null,
            "margin": null,
            "display": null,
            "left": null
          }
        },
        "90ac73afb3574f7a8eea93979cb45ab5": {
          "model_module": "@jupyter-widgets/controls",
          "model_name": "DescriptionStyleModel",
          "model_module_version": "1.5.0",
          "state": {
            "_view_name": "StyleView",
            "_model_name": "DescriptionStyleModel",
            "description_width": "",
            "_view_module": "@jupyter-widgets/base",
            "_model_module_version": "1.5.0",
            "_view_count": null,
            "_view_module_version": "1.2.0",
            "_model_module": "@jupyter-widgets/controls"
          }
        },
        "0cf9dfcfce654191b163751494d7aaf2": {
          "model_module": "@jupyter-widgets/base",
          "model_name": "LayoutModel",
          "model_module_version": "1.2.0",
          "state": {
            "_view_name": "LayoutView",
            "grid_template_rows": null,
            "right": null,
            "justify_content": null,
            "_view_module": "@jupyter-widgets/base",
            "overflow": null,
            "_model_module_version": "1.2.0",
            "_view_count": null,
            "flex_flow": null,
            "width": null,
            "min_width": null,
            "border": null,
            "align_items": null,
            "bottom": null,
            "_model_module": "@jupyter-widgets/base",
            "top": null,
            "grid_column": null,
            "overflow_y": null,
            "overflow_x": null,
            "grid_auto_flow": null,
            "grid_area": null,
            "grid_template_columns": null,
            "flex": null,
            "_model_name": "LayoutModel",
            "justify_items": null,
            "grid_row": null,
            "max_height": null,
            "align_content": null,
            "visibility": null,
            "align_self": null,
            "height": null,
            "min_height": null,
            "padding": null,
            "grid_auto_rows": null,
            "grid_gap": null,
            "max_width": null,
            "order": null,
            "_view_module_version": "1.2.0",
            "grid_template_areas": null,
            "object_position": null,
            "object_fit": null,
            "grid_auto_columns": null,
            "margin": null,
            "display": null,
            "left": null
          }
        }
      }
    }
  },
  "cells": [
    {
      "cell_type": "markdown",
      "metadata": {
        "id": "view-in-github",
        "colab_type": "text"
      },
      "source": [
        "<a href=\"https://colab.research.google.com/github/hxri/feacher/blob/main/docs/feacher_example.ipynb\" target=\"_parent\"><img src=\"https://colab.research.google.com/assets/colab-badge.svg\" alt=\"Open In Colab\"/></a>"
      ]
    },
    {
      "cell_type": "code",
      "metadata": {
        "colab": {
          "base_uri": "https://localhost:8080/"
        },
        "id": "sQR-7iYxUM35",
        "outputId": "cecd206b-29c2-4105-c61a-93854833678d"
      },
      "source": [
        "!pip install feacher"
      ],
      "execution_count": null,
      "outputs": [
        {
          "output_type": "stream",
          "name": "stdout",
          "text": [
            "Collecting feacher\n",
            "  Downloading feacher-0.0.1-py3-none-any.whl (4.1 kB)\n",
            "Requirement already satisfied: torch in /usr/local/lib/python3.7/dist-packages (from feacher) (1.9.0+cu102)\n",
            "Requirement already satisfied: torchvision in /usr/local/lib/python3.7/dist-packages (from feacher) (0.10.0+cu102)\n",
            "Requirement already satisfied: Pillow in /usr/local/lib/python3.7/dist-packages (from feacher) (7.1.2)\n",
            "Requirement already satisfied: typing-extensions in /usr/local/lib/python3.7/dist-packages (from torch->feacher) (3.7.4.3)\n",
            "Requirement already satisfied: numpy in /usr/local/lib/python3.7/dist-packages (from torchvision->feacher) (1.19.5)\n",
            "Installing collected packages: feacher\n",
            "Successfully installed feacher-0.0.1\n"
          ]
        }
      ]
    },
    {
      "cell_type": "code",
      "metadata": {
        "id": "9Y2X1Gt_UTHv"
      },
      "source": [
        "import feacher"
      ],
      "execution_count": null,
      "outputs": []
    },
    {
      "cell_type": "code",
      "metadata": {
        "colab": {
          "base_uri": "https://localhost:8080/"
        },
        "id": "xqFDTeOpUcYV",
        "outputId": "870e29f0-5bb9-4329-c38c-752af3ae3725"
      },
      "source": [
        "!wget -P images/ https://picsum.photos/id/237/200/300"
      ],
      "execution_count": null,
      "outputs": [
        {
          "output_type": "stream",
          "name": "stdout",
          "text": [
            "--2021-09-06 08:59:00--  https://picsum.photos/id/237/200/300\n",
            "Resolving picsum.photos (picsum.photos)... 104.26.5.30, 172.67.74.163, 104.26.4.30, ...\n",
            "Connecting to picsum.photos (picsum.photos)|104.26.5.30|:443... connected.\n",
            "HTTP request sent, awaiting response... 302 Found\n",
            "Location: https://i.picsum.photos/id/237/200/300.jpg?hmac=TmmQSbShHz9CdQm0NkEjx1Dyh_Y984R9LpNrpvH2D_U [following]\n",
            "--2021-09-06 08:59:00--  https://i.picsum.photos/id/237/200/300.jpg?hmac=TmmQSbShHz9CdQm0NkEjx1Dyh_Y984R9LpNrpvH2D_U\n",
            "Resolving i.picsum.photos (i.picsum.photos)... 172.67.74.163, 104.26.5.30, 104.26.4.30, ...\n",
            "Connecting to i.picsum.photos (i.picsum.photos)|172.67.74.163|:443... connected.\n",
            "HTTP request sent, awaiting response... 200 OK\n",
            "Length: 11531 (11K) [image/jpeg]\n",
            "Saving to: ‘images/300’\n",
            "\n",
            "300                 100%[===================>]  11.26K  --.-KB/s    in 0s      \n",
            "\n",
            "2021-09-06 08:59:00 (91.7 MB/s) - ‘images/300’ saved [11531/11531]\n",
            "\n"
          ]
        }
      ]
    },
    {
      "cell_type": "code",
      "metadata": {
        "id": "HbkqqxuEVQh0"
      },
      "source": [
        "path = 'images/'"
      ],
      "execution_count": null,
      "outputs": []
    },
    {
      "cell_type": "code",
      "metadata": {
        "colab": {
          "base_uri": "https://localhost:8080/",
          "height": 120,
          "referenced_widgets": [
            "ef9998d8c3294393a304b746596c512d",
            "dc482518df8340ea91153433c2b1c587",
            "d4e393c70490406881ce3c977d1be099",
            "508a1879376446f38556da9103b9a394",
            "e5907f0c0a1d4392b1b64f55b3ade698",
            "767dd45852564a91a3b4fc7da023b54b",
            "c98008ff2ef94fe8914551678ae8cc2e",
            "b3d2cab9dd4a4a8c8db575b14d6833b9",
            "4f2bda3047554c9bb0f4a2b86f19b12d",
            "90ac73afb3574f7a8eea93979cb45ab5",
            "0cf9dfcfce654191b163751494d7aaf2"
          ]
        },
        "id": "3gC1wIvjVX9k",
        "outputId": "cece019f-2f5b-431a-d040-57a4cfbc64ef"
      },
      "source": [
        "features = feacher.extract(path, pretrained_model='resnet18', resize_dim=256, layer=None)"
      ],
      "execution_count": null,
      "outputs": [
        {
          "output_type": "stream",
          "name": "stderr",
          "text": [
            "Downloading: \"https://download.pytorch.org/models/resnet18-f37072fd.pth\" to /root/.cache/torch/hub/checkpoints/resnet18-f37072fd.pth\n"
          ]
        },
        {
          "output_type": "display_data",
          "data": {
            "application/vnd.jupyter.widget-view+json": {
              "model_id": "ef9998d8c3294393a304b746596c512d",
              "version_minor": 0,
              "version_major": 2
            },
            "text/plain": [
              "  0%|          | 0.00/44.7M [00:00<?, ?B/s]"
            ]
          },
          "metadata": {}
        },
        {
          "output_type": "stream",
          "name": "stderr",
          "text": [
            "/usr/local/lib/python3.7/dist-packages/torch/nn/functional.py:718: UserWarning: Named tensors and all their associated APIs are an experimental feature and subject to change. Please do not use them for anything important until they are released as stable. (Triggered internally at  /pytorch/c10/core/TensorImpl.h:1156.)\n",
            "  return torch.max_pool2d(input, kernel_size, stride, padding, dilation, ceil_mode)\n"
          ]
        }
      ]
    },
    {
      "cell_type": "code",
      "metadata": {
        "colab": {
          "base_uri": "https://localhost:8080/"
        },
        "id": "V5aZ6lbjVaIc",
        "outputId": "d49c760c-9838-464c-b891-bd0124de1923"
      },
      "source": [
        "print(features[0])"
      ],
      "execution_count": null,
      "outputs": [
        {
          "output_type": "stream",
          "name": "stdout",
          "text": [
            "tensor([1.2562e+00, 7.5098e-01, 4.2243e-01, 1.9873e-03, 9.1022e-01, 1.1317e-01,\n",
            "        5.4360e-01, 1.5086e+00, 8.4322e-02, 1.3818e+00, 6.6677e-01, 2.2445e-01,\n",
            "        2.5069e-02, 1.7570e+00, 3.2294e-01, 1.2406e+00, 1.7549e-01, 3.2007e-01,\n",
            "        2.5712e-01, 1.0331e-01, 8.1192e-02, 1.2704e+00, 1.7605e+00, 3.7291e-01,\n",
            "        3.7328e-02, 5.0576e-01, 1.6345e+00, 1.5004e-01, 6.4175e-03, 6.3883e-01,\n",
            "        5.5746e-01, 1.8550e-01, 6.0487e-01, 4.1128e-01, 9.2130e-01, 6.9229e-01,\n",
            "        6.8143e-01, 6.6886e-01, 7.1844e-01, 6.2259e-01, 4.7426e-01, 2.1959e-01,\n",
            "        3.6788e-02, 7.0354e-01, 4.8275e-01, 1.2020e-02, 8.1508e-01, 4.5708e-01,\n",
            "        6.2629e-01, 1.0522e+00, 7.1128e-01, 2.4425e-01, 5.9894e-01, 4.1615e-01,\n",
            "        1.2231e-01, 1.0620e-01, 6.1576e-01, 1.2362e-01, 4.7069e-01, 5.1190e-01,\n",
            "        1.0542e-01, 1.9885e-01, 8.4227e-01, 1.3517e+00, 4.8485e-01, 3.4950e-01,\n",
            "        3.6479e-02, 1.3027e-01, 9.7011e-01, 1.4096e+00, 1.5712e-01, 2.9838e-01,\n",
            "        2.4216e-01, 6.0085e-01, 6.0870e-02, 4.0493e-01, 8.3388e-01, 1.0699e-01,\n",
            "        1.9022e-01, 3.5801e-01, 5.8647e-01, 2.5641e-01, 5.9980e-01, 2.4958e+00,\n",
            "        8.4313e-01, 9.5748e-01, 2.5288e+00, 6.7728e-01, 3.7843e-01, 3.6154e-01,\n",
            "        1.4201e-01, 5.1884e-01, 3.2827e+00, 1.6684e-01, 2.3745e-02, 1.5713e+00,\n",
            "        7.0918e-01, 4.3252e-01, 6.4076e-01, 6.9205e-01, 1.5925e+00, 2.4258e-01,\n",
            "        1.2694e-02, 7.2494e-01, 8.8710e-02, 9.2001e-01, 1.0838e+00, 2.7561e-01,\n",
            "        1.4919e-01, 1.0842e-01, 6.0306e-01, 1.0689e+00, 2.4496e-01, 7.1000e-01,\n",
            "        1.6742e-01, 1.6478e+00, 6.2343e-01, 1.1404e-01, 1.2904e+00, 2.3060e-02,\n",
            "        7.9420e-01, 1.0881e+00, 1.6707e-01, 4.7171e-01, 7.1698e-01, 2.9349e-01,\n",
            "        5.9324e-01, 2.0778e+00, 3.7900e-01, 1.3300e+00, 6.2264e-01, 6.4445e-01,\n",
            "        1.0391e-01, 4.8904e-01, 5.5879e-01, 5.2860e-02, 1.3276e+00, 2.1812e-01,\n",
            "        1.7997e+00, 1.0394e+00, 7.8064e-01, 1.6615e-01, 7.9467e-02, 2.4071e+00,\n",
            "        6.0265e-01, 6.0679e-01, 1.3339e+00, 8.4703e-01, 3.9748e-01, 4.2028e-01,\n",
            "        4.9433e-01, 6.2870e-01, 6.6972e-02, 2.3480e+00, 1.1376e+00, 6.6689e-01,\n",
            "        2.5485e+00, 9.8074e-01, 1.3436e+00, 1.0675e+00, 5.5717e-01, 1.3717e+00,\n",
            "        2.3100e-01, 3.0864e+00, 5.3308e-01, 1.6682e+00, 7.4614e-01, 1.3639e+00,\n",
            "        1.1137e-01, 6.4285e-02, 6.9090e-01, 1.8900e-01, 1.5131e-02, 3.7068e-01,\n",
            "        4.9041e-01, 1.5687e-02, 4.5870e-01, 7.4219e-01, 6.7187e-02, 2.9379e-02,\n",
            "        1.2814e-01, 1.4697e+00, 2.9339e-01, 1.0709e+00, 5.5991e-01, 1.4429e+00,\n",
            "        4.0119e-01, 3.8524e-01, 4.0863e-01, 7.4457e-01, 8.2209e-02, 9.9158e-02,\n",
            "        2.9526e-01, 1.1856e+00, 1.6631e-02, 1.1405e+00, 5.1367e-01, 8.5648e-02,\n",
            "        8.8777e-01, 6.1377e-01, 4.4932e-01, 5.3331e-01, 2.3979e+00, 1.9277e-01,\n",
            "        2.3995e+00, 1.2715e+00, 5.2853e-01, 4.6400e-01, 1.4077e+00, 3.5590e-01,\n",
            "        5.1182e-01, 1.3060e+00, 1.1272e+00, 5.5661e-01, 2.2048e-01, 4.7849e-01,\n",
            "        1.4501e-01, 3.4979e-02, 1.2233e-01, 1.0118e+00, 2.1682e-02, 4.5858e-01,\n",
            "        6.5327e-01, 7.6080e-01, 1.0817e+00, 1.3120e-01, 6.6388e-01, 5.3622e-01,\n",
            "        2.8111e+00, 1.3453e+00, 6.8415e-02, 2.2939e-01, 3.3505e-01, 1.2652e+00,\n",
            "        9.3903e-01, 1.4473e+00, 7.3253e-01, 8.1874e-01, 6.3948e-01, 7.6881e-01,\n",
            "        8.6074e-03, 2.4478e-04, 1.0307e+00, 8.7756e-03, 9.2557e-01, 3.4303e-01,\n",
            "        1.6610e+00, 4.9982e-01, 4.9922e-01, 1.1838e+00, 1.1068e+00, 5.4015e-02,\n",
            "        8.8486e-01, 8.8398e-01, 4.6973e-01, 8.4023e-01, 3.8061e-03, 6.1393e-02,\n",
            "        3.8628e-01, 6.0348e-01, 2.5241e+00, 1.3029e+00, 6.4805e-01, 1.5640e+00,\n",
            "        2.9750e-01, 6.8335e-01, 4.1664e-01, 3.7635e-01, 3.3750e-01, 3.5037e-02,\n",
            "        1.5061e+00, 2.4783e+00, 6.9279e-01, 2.2711e-01, 0.0000e+00, 6.7548e-01,\n",
            "        4.2416e-01, 1.9750e+00, 7.9331e-01, 8.4017e-01, 2.0304e+00, 8.0295e-01,\n",
            "        2.0428e+00, 2.8820e-02, 9.4199e-01, 2.1964e-01, 7.5869e-01, 4.2486e-01,\n",
            "        3.1137e-01, 1.9061e-02, 7.3594e-02, 9.4763e-02, 3.2854e-01, 2.6576e+00,\n",
            "        3.2243e-01, 1.7007e-01, 6.0664e-02, 1.0054e+00, 7.5840e-01, 8.5006e-01,\n",
            "        1.5820e+00, 1.6763e-02, 1.0106e+00, 1.0540e-01, 1.3413e+00, 4.1539e-01,\n",
            "        5.5391e-01, 3.2967e-01, 5.8952e-01, 9.3807e-01, 3.6016e-01, 3.4601e-01,\n",
            "        6.2509e-01, 9.2790e-01, 5.1900e-01, 8.0950e-03, 5.5348e-01, 5.6389e-02,\n",
            "        1.0372e+00, 7.7995e-01, 4.7148e-01, 8.3315e-02, 7.6003e-01, 6.6756e-01,\n",
            "        3.3694e-01, 6.9700e-01, 5.2673e-01, 2.4471e-01, 3.4079e-01, 7.3284e-01,\n",
            "        7.6574e-02, 2.1123e+00, 1.5814e-01, 1.7086e+00, 6.0096e-01, 5.2039e-01,\n",
            "        2.9594e-01, 7.3094e-01, 4.4882e-01, 1.1639e-01, 4.2455e-01, 6.3533e-01,\n",
            "        1.6332e-01, 1.1616e+00, 2.7147e-01, 1.0719e+00, 4.8296e-02, 6.3706e-02,\n",
            "        1.2813e+00, 2.8916e-01, 3.9108e-01, 6.3801e-02, 2.9217e-01, 1.0911e+00,\n",
            "        1.0321e+00, 3.1479e-01, 1.5228e-01, 1.2676e+00, 9.0648e-01, 9.2283e-01,\n",
            "        4.6362e-01, 3.2831e-01, 2.1220e-01, 3.0634e-01, 4.7218e-01, 3.4775e-01,\n",
            "        6.6404e-01, 6.6063e-01, 7.2187e-01, 8.5664e-01, 5.6826e-01, 6.1463e-01,\n",
            "        5.1372e-02, 6.0843e-01, 4.9701e-01, 2.0378e+00, 1.5825e+00, 1.7283e-01,\n",
            "        7.2871e-01, 2.3112e-01, 8.4051e-01, 9.7056e-01, 5.4922e-01, 2.6845e-01,\n",
            "        5.5180e-01, 5.7144e-01, 1.0641e+00, 3.9374e-01, 4.1901e-01, 3.3042e-01,\n",
            "        1.0443e+00, 1.5915e+00, 9.9393e-01, 8.5272e-01, 4.4916e-01, 1.2232e+00,\n",
            "        4.6653e-01, 9.7016e-01, 3.7230e-01, 2.0313e+00, 6.5408e-01, 1.9995e-01,\n",
            "        3.6462e-01, 1.1897e+00, 3.4238e-01, 9.2971e-01, 1.2771e+00, 1.5998e+00,\n",
            "        1.2349e+00, 2.7086e-01, 1.4699e-02, 1.2777e+00, 9.7949e-01, 3.7005e-01,\n",
            "        1.2995e+00, 4.2979e-01, 6.7634e-01, 3.6117e-01, 2.6902e+00, 4.9194e-01,\n",
            "        3.9843e-01, 5.8682e-01, 5.7602e-01, 1.1586e+00, 1.4351e+00, 8.3126e-01,\n",
            "        1.5628e+00, 7.1341e-01, 1.2880e+00, 1.0581e+00, 3.9202e-01, 8.8009e-02,\n",
            "        1.1123e+00, 1.6179e-01, 0.0000e+00, 1.4229e+00, 1.6279e-01, 7.9134e-01,\n",
            "        3.4527e-01, 5.5266e-01, 1.1906e+00, 7.0545e-01, 8.7038e-01, 6.0990e-01,\n",
            "        1.8543e-01, 1.6718e+00, 1.5731e+00, 3.2290e-01, 2.0676e-01, 8.6760e-02,\n",
            "        5.4482e-01, 8.9942e-01, 2.8509e-01, 8.1162e-03, 5.2922e-01, 1.9307e-01,\n",
            "        7.2167e-01, 5.1033e-01, 5.8251e-01, 2.0311e-01, 6.0816e-01, 3.3271e-01,\n",
            "        3.9366e-01, 2.2893e-01, 3.8570e-01, 2.9744e-01, 4.5504e-01, 7.5827e-01,\n",
            "        4.1904e-01, 1.3323e-02, 4.6167e-01, 1.9050e+00, 6.6198e-02, 1.4645e+00,\n",
            "        3.2207e+00, 6.0074e-01, 2.6766e-01, 5.8499e-01, 5.0839e-02, 2.8239e-01,\n",
            "        9.3262e-01, 4.1290e-01, 2.6569e-01, 2.6855e-01, 6.0985e-01, 1.4633e+00,\n",
            "        1.1227e+00, 3.1433e-02, 7.6079e-01, 8.6322e-01, 1.8441e-01, 8.0737e-01,\n",
            "        2.6237e+00, 4.8104e-02, 5.3818e-01, 7.0490e-02, 6.7780e-01, 1.5031e+00,\n",
            "        8.6781e-01, 4.0993e-01, 4.1480e-01, 2.5669e-01, 1.2799e+00, 5.5098e-01,\n",
            "        3.7749e-01, 1.6946e+00, 4.6336e-01, 1.0775e+00, 7.1723e-01, 1.0751e-01,\n",
            "        1.9897e+00, 8.1822e-01])\n"
          ]
        }
      ]
    },
    {
      "cell_type": "code",
      "metadata": {
        "id": "iUypbysVVlvF"
      },
      "source": [
        ""
      ],
      "execution_count": null,
      "outputs": []
    }
  ]
}